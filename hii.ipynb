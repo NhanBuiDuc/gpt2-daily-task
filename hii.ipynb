{
 "cells": [
  {
   "cell_type": "code",
   "execution_count": 1,
   "metadata": {},
   "outputs": [
    {
     "name": "stdout",
     "output_type": "stream",
     "text": [
      "'sample' appears 2 times in the text.\n"
     ]
    }
   ],
   "source": [
    "text = \"This is a sample text. Search for 'sample' in this text.\"\n",
    "search_string = \"sample\"\n",
    "\n",
    "count = text.count(search_string)\n",
    "\n",
    "print(f\"'{search_string}' appears {count} times in the text.\")"
   ]
  }
 ],
 "metadata": {
  "kernelspec": {
   "display_name": "tf",
   "language": "python",
   "name": "python3"
  },
  "language_info": {
   "codemirror_mode": {
    "name": "ipython",
    "version": 3
   },
   "file_extension": ".py",
   "mimetype": "text/x-python",
   "name": "python",
   "nbconvert_exporter": "python",
   "pygments_lexer": "ipython3",
   "version": "3.10.13"
  },
  "orig_nbformat": 4
 },
 "nbformat": 4,
 "nbformat_minor": 2
}
